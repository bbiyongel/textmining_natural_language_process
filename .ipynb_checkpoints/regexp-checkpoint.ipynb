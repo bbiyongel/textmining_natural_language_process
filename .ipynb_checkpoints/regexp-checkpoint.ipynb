{
 "cells": [
  {
   "cell_type": "markdown",
   "metadata": {},
   "source": [
    "# Regular Expression (정규식)"
   ]
  },
  {
   "cell_type": "markdown",
   "metadata": {},
   "source": [
    "<br></br>\n",
    "## **2 Re 를 사용한 Regex 정규식**"
   ]
  },
  {
   "cell_type": "code",
   "execution_count": 5,
   "metadata": {
    "ExecuteTime": {
     "end_time": "2019-05-19T13:31:08.640087Z",
     "start_time": "2019-05-19T13:31:08.632080Z"
    }
   },
   "outputs": [
    {
     "data": {
      "text/plain": [
       "['010',\n",
       " '1234',\n",
       " '1234',\n",
       " '010',\n",
       " '8888',\n",
       " '9999',\n",
       " '010',\n",
       " '2123',\n",
       " '1299',\n",
       " '010',\n",
       " '222',\n",
       " '9999',\n",
       " '010',\n",
       " '555',\n",
       " '2345']"
      ]
     },
     "execution_count": 5,
     "metadata": {},
     "output_type": "execute_result"
    }
   ],
   "source": [
    "text = \"\"\"Park 010-1234-1234 Kim 010-8888-9999 \n",
    "Lee 010-2123-1299 홍길동 010-222-9999 신사임당 010-555-2345\"\"\"\n",
    "\n",
    "from nltk.tokenize import RegexpTokenizer\n",
    "re_capt = RegexpTokenizer(r'\\d+')\n",
    "re_capt.tokenize(text)"
   ]
  },
  {
   "cell_type": "code",
   "execution_count": 6,
   "metadata": {
    "ExecuteTime": {
     "end_time": "2019-05-19T13:31:13.183130Z",
     "start_time": "2019-05-19T13:31:13.176125Z"
    }
   },
   "outputs": [
    {
     "data": {
      "text/plain": [
       "['Park', 'Kim', 'Lee']"
      ]
     },
     "execution_count": 6,
     "metadata": {},
     "output_type": "execute_result"
    }
   ],
   "source": [
    "from nltk.tokenize import RegexpTokenizer\n",
    "re_capt = RegexpTokenizer(r'[A-z]\\w+')\n",
    "re_capt.tokenize(text)"
   ]
  },
  {
   "cell_type": "code",
   "execution_count": 7,
   "metadata": {
    "ExecuteTime": {
     "end_time": "2019-05-19T13:31:13.685118Z",
     "start_time": "2019-05-19T13:31:13.674113Z"
    }
   },
   "outputs": [
    {
     "data": {
      "text/plain": [
       "['홍길동', '신사임당']"
      ]
     },
     "execution_count": 7,
     "metadata": {},
     "output_type": "execute_result"
    }
   ],
   "source": [
    "from nltk.tokenize import RegexpTokenizer\n",
    "re_capt = RegexpTokenizer(r'[가-힣]\\w+')\n",
    "re_capt.tokenize(text)"
   ]
  },
  {
   "cell_type": "code",
   "execution_count": 8,
   "metadata": {
    "ExecuteTime": {
     "end_time": "2019-05-19T13:31:14.267326Z",
     "start_time": "2019-05-19T13:31:14.264324Z"
    }
   },
   "outputs": [],
   "source": [
    "# 한글/영문 이름만 추출하기\n",
    "# 아이디어 1 : 숫자가 아닌 내용만 추출한다\n",
    "# 아이디어 2 : 한글과 영어만 추출한다"
   ]
  },
  {
   "cell_type": "markdown",
   "metadata": {},
   "source": [
    "<br></br>\n",
    "## **3 Regex 정규식 Quiz 풀기**"
   ]
  },
  {
   "cell_type": "code",
   "execution_count": 9,
   "metadata": {
    "ExecuteTime": {
     "end_time": "2019-05-19T13:31:15.640016Z",
     "start_time": "2019-05-19T13:31:15.632010Z"
    }
   },
   "outputs": [
    {
     "data": {
      "text/plain": [
       "['Park',\n",
       " '-',\n",
       " '-',\n",
       " 'Kim',\n",
       " '-',\n",
       " '-',\n",
       " '\\nLee',\n",
       " '-',\n",
       " '-',\n",
       " '홍길동',\n",
       " '-',\n",
       " '-',\n",
       " '신사임당',\n",
       " '-',\n",
       " '-']"
      ]
     },
     "execution_count": 9,
     "metadata": {},
     "output_type": "execute_result"
    }
   ],
   "source": [
    "# 숫자가 아닌 나머지 추출하기 : 결과가 지저분한 단점\n",
    "re_capt = RegexpTokenizer(r'[^ 0-9]+')\n",
    "re_capt.tokenize(text)"
   ]
  },
  {
   "cell_type": "code",
   "execution_count": 10,
   "metadata": {
    "ExecuteTime": {
     "end_time": "2019-05-19T13:31:16.326362Z",
     "start_time": "2019-05-19T13:31:16.320357Z"
    }
   },
   "outputs": [
    {
     "data": {
      "text/plain": [
       "[' 010', ' Kim', ' 010', ' 010', ' 홍길동', ' 010', ' 신사임당', ' 010']"
      ]
     },
     "execution_count": 10,
     "metadata": {},
     "output_type": "execute_result"
    }
   ],
   "source": [
    "# 한글/영문이름 추출하기\n",
    "from nltk.tokenize import RegexpTokenizer\n",
    "re_capt = RegexpTokenizer(r'[ =Quiz!= ]\\w+')\n",
    "re_capt.tokenize(text)"
   ]
  },
  {
   "cell_type": "code",
   "execution_count": 11,
   "metadata": {
    "ExecuteTime": {
     "end_time": "2019-05-19T13:31:17.028747Z",
     "start_time": "2019-05-19T13:31:17.021742Z"
    }
   },
   "outputs": [
    {
     "data": {
      "text/plain": [
       "[]"
      ]
     },
     "execution_count": 11,
     "metadata": {},
     "output_type": "execute_result"
    }
   ],
   "source": [
    "# cf) 전화번호만 추출해보기\n",
    "re_capt = RegexpTokenizer('\\d{ =Quiz!= }-\\d{ =Quiz!= }-\\d{ =Quiz!= }')\n",
    "re_capt.tokenize(text)"
   ]
  },
  {
   "cell_type": "markdown",
   "metadata": {},
   "source": [
    "<br></br>\n",
    "## **4 import re**"
   ]
  },
  {
   "cell_type": "code",
   "execution_count": 12,
   "metadata": {
    "ExecuteTime": {
     "end_time": "2019-05-19T13:31:19.070512Z",
     "start_time": "2019-05-19T13:31:19.065508Z"
    }
   },
   "outputs": [],
   "source": [
    "text = \"갤럭시(GalaxyNote9)노트9은 2018년 08월 폭발적인 인기를 이끌고 있습니다\""
   ]
  },
  {
   "cell_type": "code",
   "execution_count": 13,
   "metadata": {
    "ExecuteTime": {
     "end_time": "2019-05-19T13:31:19.795079Z",
     "start_time": "2019-05-19T13:31:19.785073Z"
    }
   },
   "outputs": [
    {
     "data": {
      "text/plain": [
       "['갤럭시', '노트', '은', '년', '월', '폭발적인', '인기를', '이끌고', '있습니다']"
      ]
     },
     "execution_count": 13,
     "metadata": {},
     "output_type": "execute_result"
    }
   ],
   "source": [
    "import re\n",
    "tokenizer = re.compile(r'[가-힣]+')\n",
    "tokenizer.findall(text)"
   ]
  },
  {
   "cell_type": "code",
   "execution_count": 14,
   "metadata": {
    "ExecuteTime": {
     "end_time": "2019-05-19T13:31:20.482631Z",
     "start_time": "2019-05-19T13:31:20.472623Z"
    }
   },
   "outputs": [
    {
     "data": {
      "text/plain": [
       "'갤럭시노트은 년 월 폭발적인 인기를 이끌고 있습니다'"
      ]
     },
     "execution_count": 14,
     "metadata": {},
     "output_type": "execute_result"
    }
   ],
   "source": [
    "# 한글과 공백을 제외한 나머지 선택후 제거\n",
    "tokenizer = re.compile(r'[^ 가-힣]+')\n",
    "tokenizer.sub(\"\", text)"
   ]
  }
 ],
 "metadata": {
  "kernelspec": {
   "display_name": "Python 3",
   "language": "python",
   "name": "python3"
  },
  "language_info": {
   "codemirror_mode": {
    "name": "ipython",
    "version": 3
   },
   "file_extension": ".py",
   "mimetype": "text/x-python",
   "name": "python",
   "nbconvert_exporter": "python",
   "pygments_lexer": "ipython3",
   "version": "3.6.8"
  },
  "toc": {
   "base_numbering": 1,
   "nav_menu": {},
   "number_sections": true,
   "sideBar": true,
   "skip_h1_title": false,
   "title_cell": "Table of Contents",
   "title_sidebar": "Contents",
   "toc_cell": false,
   "toc_position": {},
   "toc_section_display": true,
   "toc_window_display": false
  },
  "varInspector": {
   "cols": {
    "lenName": 16,
    "lenType": 16,
    "lenVar": 40
   },
   "kernels_config": {
    "python": {
     "delete_cmd_postfix": "",
     "delete_cmd_prefix": "del ",
     "library": "var_list.py",
     "varRefreshCmd": "print(var_dic_list())"
    },
    "r": {
     "delete_cmd_postfix": ") ",
     "delete_cmd_prefix": "rm(",
     "library": "var_list.r",
     "varRefreshCmd": "cat(var_dic_list()) "
    }
   },
   "types_to_exclude": [
    "module",
    "function",
    "builtin_function_or_method",
    "instance",
    "_Feature"
   ],
   "window_display": false
  }
 },
 "nbformat": 4,
 "nbformat_minor": 2
}
