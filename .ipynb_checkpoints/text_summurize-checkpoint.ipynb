{
 "cells": [
  {
   "cell_type": "markdown",
   "metadata": {},
   "source": [
    "# Text Summarize(문서요약)"
   ]
  },
  {
   "cell_type": "code",
   "execution_count": 1,
   "metadata": {
    "ExecuteTime": {
     "end_time": "2019-05-18T15:31:09.197453Z",
     "start_time": "2019-05-18T15:31:07.463672Z"
    }
   },
   "outputs": [
    {
     "name": "stderr",
     "output_type": "stream",
     "text": [
      "C:\\Anaconda3\\lib\\site-packages\\gensim\\utils.py:1197: UserWarning: detected Windows; aliasing chunkize to chunkize_serial\n",
      "  warnings.warn(\"detected Windows; aliasing chunkize to chunkize_serial\")\n"
     ]
    }
   ],
   "source": [
    "import gensim\n",
    "from gensim.summarization import summarize"
   ]
  },
  {
   "cell_type": "code",
   "execution_count": 2,
   "metadata": {
    "ExecuteTime": {
     "end_time": "2019-05-18T15:32:10.321094Z",
     "start_time": "2019-05-18T15:32:10.315092Z"
    }
   },
   "outputs": [],
   "source": [
    "text = '''카카오가 자사 인공지능(AI) 모델이 한국어 독해 능력 평가에서 인간보다 높은 점수로 1위를 차지했다고 밝혔다. 해당 평가에서 AI가 인간보다 독해 능력에서 높은 점수를 기록한 것은 이번이 처음이다.\n",
    "카카오는 자체 개발한 AI 언어모델이 LG CNS가 주최한 한국어 학습 데이터 ‘KorQuAD(The Korean Question Answering Dataset)’를 바탕으로 한 기계 독해 능력 평가에서 91.85점을 받으며 1위를 차지했다고 1월31일 밝혔다. LG CNS는 인간의 문장 판별 및 독해 능력 수준이 91.20점이라고 밝혔다.\n",
    "이번 평가는 미 스탠포드 대학에서 시작된 AI 언어지능 연구용 질의응답 학습 데이터셋인 ‘SQuAD(The Stanford Question Answering Dataset)’와 동일한 방식으로 이뤄졌다. LG CNS는 지난해 12월 한국어 학습 데이터 KorQuAD를 구축해 오픈소스로 공개했으며, 누구나 이를 바탕으로 학습한 자체 개발 AI 언어모델을 제출해 성능을 평가받을 수 있도록 했다.\n",
    "\n",
    "평가는 데이터셋에서 추출한 내용을 질문으로 제시하면 개발 모델이 답을 찾아내는 방식이다. 예를 들어 “아이유는 1993년 5월 16일 서울특별시에서 태어났으며, 경기도 하남시와 의정부시를 거쳐 서울특별시 광진구에서 자랐다. 초등학교는 하남시의 하남천현초등학교에서 3학년까지 다니다가 서울 광진구의 서울양남초등학교로 전학가 졸업하였다”와 같은 지문을 주고, “아이유가 졸업한 초등학교는 어디인가?”라는 질문이 제시되면 “서울양남초등학교”라는 정답을 찾아내는 식이다.\n",
    "이번에 평가받은 카카오의 AI 언어모델은 구글의 AI 언어모델 ‘BERT’에 카카오의 형태소 분석기 ‘khaiii(Kakao Hangul Analyzer III)’를 접목해 만들어졌다. 조사의 사용과 어미의 다양한 변형 등 한국어의 고유 특성에 최적화됐다. 카카오는 지난해 말 딥러닝 기술 기반의 형태소 분석기 khaiii를 국내 최초 오픈소스로 제공하는 등 국내 AI 기반 언어지능 연구 발전을 위해 노력하고 있다.\n",
    "김응균 카카오 자연어처리파트장은 “이번 평가 결과는 카카오의 인공지능 자연어 처리 기술을 활용해 인간의 독해 능력을 넘어서는 최초의 모델을 구현했다는 점에서 높이 평가받을 만하다”라며 “이번 개발한 언어모델 기술을 스마트 스피커 카카오미니에 적용하기 위한 연구를 진행 중”이라고 밝혔다.\n",
    "'''"
   ]
  },
  {
   "cell_type": "code",
   "execution_count": null,
   "metadata": {},
   "outputs": [],
   "source": [
    "text = \" \" +\\\n",
    "\" \" +\\\n",
    "\" \" +\\\n",
    "\" \" +\\"
   ]
  },
  {
   "cell_type": "code",
   "execution_count": 3,
   "metadata": {
    "ExecuteTime": {
     "end_time": "2019-05-18T15:32:14.866194Z",
     "start_time": "2019-05-18T15:32:14.861191Z"
    }
   },
   "outputs": [
    {
     "name": "stdout",
     "output_type": "stream",
     "text": [
      "카카오가 자사 인공지능(AI) 모델이 한국어 독해 능력 평가에서 인간보다 높은 점수로 1위를 차지했다고 밝혔다. 해당 평가에서 AI가 인간보다 독해 능력에서 높은 점수를 기록한 것은 이번이 처음이다.\n",
      "카카오는 자체 개발한 AI 언어모델이 LG CNS가 주최한 한국어 학습 데이터 ‘KorQuAD(The Korean Question Answering Dataset)’를 바탕으로 한 기계 독해 능력 평가에서 91.85점을 받으며 1위를 차지했다고 1월31일 밝혔다. LG CNS는 인간의 문장 판별 및 독해 능력 수준이 91.20점이라고 밝혔다.\n",
      "이번 평가는 미 스탠포드 대학에서 시작된 AI 언어지능 연구용 질의응답 학습 데이터셋인 ‘SQuAD(The Stanford Question Answering Dataset)’와 동일한 방식으로 이뤄졌다. LG CNS는 지난해 12월 한국어 학습 데이터 KorQuAD를 구축해 오픈소스로 공개했으며, 누구나 이를 바탕으로 학습한 자체 개발 AI 언어모델을 제출해 성능을 평가받을 수 있도록 했다.\n",
      "\n",
      "평가는 데이터셋에서 추출한 내용을 질문으로 제시하면 개발 모델이 답을 찾아내는 방식이다. 예를 들어 “아이유는 1993년 5월 16일 서울특별시에서 태어났으며, 경기도 하남시와 의정부시를 거쳐 서울특별시 광진구에서 자랐다. 초등학교는 하남시의 하남천현초등학교에서 3학년까지 다니다가 서울 광진구의 서울양남초등학교로 전학가 졸업하였다”와 같은 지문을 주고, “아이유가 졸업한 초등학교는 어디인가?”라는 질문이 제시되면 “서울양남초등학교”라는 정답을 찾아내는 식이다.\n",
      "이번에 평가받은 카카오의 AI 언어모델은 구글의 AI 언어모델 ‘BERT’에 카카오의 형태소 분석기 ‘khaiii(Kakao Hangul Analyzer III)’를 접목해 만들어졌다. 조사의 사용과 어미의 다양한 변형 등 한국어의 고유 특성에 최적화됐다. 카카오는 지난해 말 딥러닝 기술 기반의 형태소 분석기 khaiii를 국내 최초 오픈소스로 제공하는 등 국내 AI 기반 언어지능 연구 발전을 위해 노력하고 있다.\n",
      "김응균 카카오 자연어처리파트장은 “이번 평가 결과는 카카오의 인공지능 자연어 처리 기술을 활용해 인간의 독해 능력을 넘어서는 최초의 모델을 구현했다는 점에서 높이 평가받을 만하다”라며 “이번 개발한 언어모델 기술을 스마트 스피커 카카오미니에 적용하기 위한 연구를 진행 중”이라고 밝혔다.\n",
      "\n"
     ]
    }
   ],
   "source": [
    "print(text)"
   ]
  },
  {
   "cell_type": "code",
   "execution_count": 4,
   "metadata": {
    "ExecuteTime": {
     "end_time": "2019-05-18T15:32:17.552355Z",
     "start_time": "2019-05-18T15:32:17.429271Z"
    }
   },
   "outputs": [
    {
     "name": "stdout",
     "output_type": "stream",
     "text": [
      "카카오는 자체 개발한 AI 언어모델이 LG CNS가 주최한 한국어 학습 데이터 ‘KorQuAD(The Korean Question Answering Dataset)’를 바탕으로 한 기계 독해 능력 평가에서 91.85점을 받으며 1위를 차지했다고 1월31일 밝혔다.\n"
     ]
    }
   ],
   "source": [
    "print(summarize(text, ratio=0.1))"
   ]
  },
  {
   "cell_type": "code",
   "execution_count": 5,
   "metadata": {
    "ExecuteTime": {
     "end_time": "2019-05-18T15:32:18.263474Z",
     "start_time": "2019-05-18T15:32:18.248464Z"
    }
   },
   "outputs": [
    {
     "name": "stdout",
     "output_type": "stream",
     "text": [
      "카카오가 자사 인공지능(AI) 모델이 한국어 독해 능력 평가에서 인간보다 높은 점수로 1위를 차지했다고 밝혔다.\n",
      "카카오는 자체 개발한 AI 언어모델이 LG CNS가 주최한 한국어 학습 데이터 ‘KorQuAD(The Korean Question Answering Dataset)’를 바탕으로 한 기계 독해 능력 평가에서 91.85점을 받으며 1위를 차지했다고 1월31일 밝혔다.\n",
      "이번 평가는 미 스탠포드 대학에서 시작된 AI 언어지능 연구용 질의응답 학습 데이터셋인 ‘SQuAD(The Stanford Question Answering Dataset)’와 동일한 방식으로 이뤄졌다.\n",
      "LG CNS는 지난해 12월 한국어 학습 데이터 KorQuAD를 구축해 오픈소스로 공개했으며, 누구나 이를 바탕으로 학습한 자체 개발 AI 언어모델을 제출해 성능을 평가받을 수 있도록 했다.\n",
      "카카오는 지난해 말 딥러닝 기술 기반의 형태소 분석기 khaiii를 국내 최초 오픈소스로 제공하는 등 국내 AI 기반 언어지능 연구 발전을 위해 노력하고 있다.\n",
      "김응균 카카오 자연어처리파트장은 “이번 평가 결과는 카카오의 인공지능 자연어 처리 기술을 활용해 인간의 독해 능력을 넘어서는 최초의 모델을 구현했다는 점에서 높이 평가받을 만하다”라며 “이번 개발한 언어모델 기술을 스마트 스피커 카카오미니에 적용하기 위한 연구를 진행 중”이라고 밝혔다.\n"
     ]
    }
   ],
   "source": [
    "print(summarize(text, ratio=0.5))"
   ]
  },
  {
   "cell_type": "code",
   "execution_count": 6,
   "metadata": {
    "ExecuteTime": {
     "end_time": "2019-05-18T15:32:19.130891Z",
     "start_time": "2019-05-18T15:32:19.111877Z"
    }
   },
   "outputs": [
    {
     "name": "stdout",
     "output_type": "stream",
     "text": [
      "카카오가 자사 인공지능(AI) 모델이 한국어 독해 능력 평가에서 인간보다 높은 점수로 1위를 차지했다고 밝혔다.\n",
      "카카오는 자체 개발한 AI 언어모델이 LG CNS가 주최한 한국어 학습 데이터 ‘KorQuAD(The Korean Question Answering Dataset)’를 바탕으로 한 기계 독해 능력 평가에서 91.85점을 받으며 1위를 차지했다고 1월31일 밝혔다.\n",
      "이번 평가는 미 스탠포드 대학에서 시작된 AI 언어지능 연구용 질의응답 학습 데이터셋인 ‘SQuAD(The Stanford Question Answering Dataset)’와 동일한 방식으로 이뤄졌다.\n",
      "LG CNS는 지난해 12월 한국어 학습 데이터 KorQuAD를 구축해 오픈소스로 공개했으며, 누구나 이를 바탕으로 학습한 자체 개발 AI 언어모델을 제출해 성능을 평가받을 수 있도록 했다.\n",
      "카카오는 지난해 말 딥러닝 기술 기반의 형태소 분석기 khaiii를 국내 최초 오픈소스로 제공하는 등 국내 AI 기반 언어지능 연구 발전을 위해 노력하고 있다.\n"
     ]
    }
   ],
   "source": [
    "print(summarize(text, ratio=0.7, word_count=100))"
   ]
  },
  {
   "cell_type": "markdown",
   "metadata": {},
   "source": [
    "## [참조] 다른 라이브러리 : textteaser"
   ]
  },
  {
   "cell_type": "code",
   "execution_count": 11,
   "metadata": {
    "ExecuteTime": {
     "end_time": "2019-05-18T15:33:44.256664Z",
     "start_time": "2019-05-18T15:33:44.253662Z"
    }
   },
   "outputs": [],
   "source": [
    "import textteaser as ts\n",
    "# # from textteaser import TextTeaser\n",
    "# # import pyteaser"
   ]
  },
  {
   "cell_type": "code",
   "execution_count": null,
   "metadata": {},
   "outputs": [],
   "source": [
    "tt = ts.TextTeaser\n",
    "title = \"aaaaa\"\n",
    "text = \"aaa aaaa aaaa\"\n",
    "\n",
    "tt.summarize(title, text)\n",
    "\n",
    "print(title)"
   ]
  }
 ],
 "metadata": {
  "kernelspec": {
   "display_name": "Python 3",
   "language": "python",
   "name": "python3"
  },
  "language_info": {
   "codemirror_mode": {
    "name": "ipython",
    "version": 3
   },
   "file_extension": ".py",
   "mimetype": "text/x-python",
   "name": "python",
   "nbconvert_exporter": "python",
   "pygments_lexer": "ipython3",
   "version": "3.6.8"
  },
  "toc": {
   "base_numbering": 1,
   "nav_menu": {},
   "number_sections": true,
   "sideBar": true,
   "skip_h1_title": false,
   "title_cell": "Table of Contents",
   "title_sidebar": "Contents",
   "toc_cell": false,
   "toc_position": {},
   "toc_section_display": true,
   "toc_window_display": false
  },
  "varInspector": {
   "cols": {
    "lenName": 16,
    "lenType": 16,
    "lenVar": 40
   },
   "kernels_config": {
    "python": {
     "delete_cmd_postfix": "",
     "delete_cmd_prefix": "del ",
     "library": "var_list.py",
     "varRefreshCmd": "print(var_dic_list())"
    },
    "r": {
     "delete_cmd_postfix": ") ",
     "delete_cmd_prefix": "rm(",
     "library": "var_list.r",
     "varRefreshCmd": "cat(var_dic_list()) "
    }
   },
   "types_to_exclude": [
    "module",
    "function",
    "builtin_function_or_method",
    "instance",
    "_Feature"
   ],
   "window_display": false
  }
 },
 "nbformat": 4,
 "nbformat_minor": 2
}
