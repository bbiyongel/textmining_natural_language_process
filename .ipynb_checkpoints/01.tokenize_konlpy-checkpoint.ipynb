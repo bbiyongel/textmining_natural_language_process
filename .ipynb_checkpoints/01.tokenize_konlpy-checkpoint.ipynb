{
 "cells": [
  {
   "cell_type": "markdown",
   "metadata": {},
   "source": [
    "# 한글 토크나이징 with konlpy"
   ]
  },
  {
   "cell_type": "markdown",
   "metadata": {},
   "source": [
    "[출처 : 오늘코드](https://github.com/corazzon/KaggleStruggle/)"
   ]
  },
  {
   "cell_type": "code",
   "execution_count": 2,
   "metadata": {},
   "outputs": [
    {
     "name": "stdout",
     "output_type": "stream",
     "text": [
      "Name: konlpy\n",
      "Version: 0.5.1\n",
      "Summary: Python package for Korean natural language processing.\n",
      "Home-page: http://konlpy.org\n",
      "Author: Team KoNLPy\n",
      "Author-email: konlpy@googlegroups.com\n",
      "License: GPL v3\n",
      "Location: c:\\anaconda3\\lib\\site-packages\n",
      "Requires: JPype1\n",
      "Required-by: customized-konlpy\n"
     ]
    }
   ],
   "source": [
    "! pip show konlpy"
   ]
  },
  {
   "cell_type": "code",
   "execution_count": null,
   "metadata": {},
   "outputs": [],
   "source": [
    "# jdk JVMNotFoundException (https://github.com/konlpy/konlpy/issues/24 \n",
    "# jdk 설치 https://www.oracle.com/technetwork/java/javase/downloads/jdk8-downloads-2133151.html\n",
    "# .net framework 설치 : OS 맞게 설치필요 (https://www.microsoft.com/en-us/download/confirmation.aspx?id=40773)\n",
    "# MS build toold 설치 : https://visualstudio.microsoft.com/ko/downloads/?q=build\n",
    "# !pip install jpype1  # \n",
    "# !pip install konlpy, customized_konlpy"
   ]
  },
  {
   "cell_type": "markdown",
   "metadata": {},
   "source": [
    "## 자연어처리\n",
    "### [자연 언어 처리 - 위키백과, 우리 모두의 백과사전](https://ko.wikipedia.org/wiki/%EC%9E%90%EC%97%B0_%EC%96%B8%EC%96%B4_%EC%B2%98%EB%A6%AC)\n",
    "* 인간이 발화하는 언어를 기계적으로 분석해서 자연어와 같이 구조화되지 않은 비정형 텍스트로부터 새로운 지식을 발견하는 과정\n",
    "\n",
    "NLP는?\n",
    "NLP(자연어처리)는 텍스트 문제에 접근하기 위한 기술집합이다.\n",
    "\n",
    "자연어처리(natural language processing, NLP) 분야는 인공지능의 큰 줄기 중에 하나입니다. 특히, 컴퓨터에게 사람이 사용하는 언어를 처리하고 이해하도록 함으로써, 사람과 컴퓨터 사이의 매개체 또는 인터페이스 역할을 할 수 있습니다. 따라서 컴퓨터 공학 뿐만 아니라, 언어학과 같은 다른 학문과의 융합적인 요소도 갖고 있습니다.\n",
    "\n",
    "따라서, 이러한 자연어처리의 세부적인 부분들이 합쳐져 최종적인 목표는 사람의 언어를 이해하여 컴퓨터로 하여금 여러가지 문제를 수행할 수 있도록 하는 것입니다. 컴퓨터는 이제 우리와 뗄 수 없는 존재가 되었고, 그러므로 이미 실제로 자연어처리는 우리의 일상에 가장 깊숙히 들어와 있는 분야이기도 합니다. 자연어처리 기술에 의해서 수행되는 대표적인 문제 또는 응용분야들은 다음과 같습니다.\n",
    "\n",
    "\n"
   ]
  },
  {
   "cell_type": "markdown",
   "metadata": {},
   "source": [
    "### 데이터 정제 Data Cleaning and Text Preprocessing\n",
    "기계가 텍스트를 이해할 수 있도록 텍스트를 정제해 준다.\n",
    "\n",
    "1. BeautifulSoup(뷰티풀숩)을 통해 HTML 태그를 제거\n",
    "2. 정규표현식으로 알파벳 이외의 문자를 공백으로 치환\n",
    "3. NLTK 데이터를 사용해 불용어(Stopword)를 제거\n",
    "4. 어간추출(스테밍 Stemming)과 음소표기법(Lemmatizing)의 개념을 이해하고 SnowballStemmer를 통해 어간을 추출\n",
    "\n",
    "\n",
    "### 텍스트 데이터 전처리 이해하기\n",
    "\n",
    "(출처 : [트위터 한국어 형태소 분석기](https://github.com/twitter/twitter-korean-text))\n",
    "\n",
    "**정규화 normalization (입니닼ㅋㅋ -> 입니다 ㅋㅋ, 샤릉해 -> 사랑해)**\n",
    "\n",
    "* 한국어를 처리하는 예시입니닼ㅋㅋㅋㅋㅋ -> 한국어를 처리하는 예시입니다 ㅋㅋ\n",
    "\n",
    "**토큰화 tokenization**\n",
    "\n",
    "* 한국어를 처리하는 예시입니다 ㅋㅋ -> 한국어Noun, 를Josa, 처리Noun, 하는Verb, 예시Noun, 입Adjective, 니다Eomi ㅋㅋKoreanParticle\n",
    "\n",
    "**어근화 stemming (입니다 -> 이다)**\n",
    "\n",
    "* 한국어를 처리하는 예시입니다 ㅋㅋ -> 한국어Noun, 를Josa, 처리Noun, 하다Verb, 예시Noun, 이다Adjective, ㅋㅋKoreanParticle\n",
    "\n",
    "\n",
    "**어구 추출 phrase extraction** \n",
    "\n",
    "* 한국어를 처리하는 예시입니다 ㅋㅋ -> 한국어, 처리, 예시, 처리하는 예시\n",
    "\n",
    "Introductory Presentation: [Google Slides](https://docs.google.com/presentation/d/10CZj8ry03oCk_Jqw879HFELzOLjJZ0EOi4KJbtRSIeU/)"
   ]
  },
  {
   "cell_type": "code",
   "execution_count": 18,
   "metadata": {},
   "outputs": [],
   "source": [
    "from konlpy.tag import Kkma,Okt,Hannanum\n",
    "from konlpy.utils import pprint\n",
    "from pprint import pprint\n",
    "import ckonlpy\n",
    "from collections import Counter\n",
    "import matplotlib.pyplot as plt\n",
    "import pandas as pd\n",
    "\n",
    "%matplotlib inline"
   ]
  },
  {
   "cell_type": "markdown",
   "metadata": {},
   "source": [
    "# Read data"
   ]
  },
  {
   "cell_type": "code",
   "execution_count": 5,
   "metadata": {
    "scrolled": true
   },
   "outputs": [
    {
     "data": {
      "text/plain": [
       "\"존경하는 국민여러분. 성원해 주신 덕분에 평양에 잘 다녀왔습니다. \\n\\n국민 여러분께서 보셨듯이 정상회담에서 좋은 합의를 이뤘고, 최상의 환대를 받았습니다. 무엇보다 3일동안 김정은 위원장과 여러차례 만나 긴 시간 많은 대화를 허심탄회하게 나눌 수 있었던 것에 큰 의미를 두고 싶습니다.\\n\\n남북관계를 크게 진전시키고 두 정상 간의 신뢰 구축에도 큰 도움이 된 방문이었다고 평가하고 싶습니다.\\n\\n북측에서는 짧은 준비기간에도 불구하고 우리 대표단을 정성을 다해 맞아 주었습니다.\\n\\n오고 가는 동안 공항과 길가에서 열렬하게 환영해주고 환송해준 평양 시민들께 각별한 인사를 드리지 않을 수 없습니다.\\n\\n백두산에 오가는 동안 삼지연공항에서 따뜻하게 맞아주고 배웅해 준 지역 주민들께도 감사드립니다.\\n\\n저는 5월1일 경기장에서 열린 대규모 집단체조와 공연에서 15만 평양 시민들에게 대한민국 대통령으로써 사상 최초로 연설을 하는 기회를 가졌습니다.\\n\\n그들은 한반도를 영구히 핵무기와 핵위협이 없는 평화의 터전으로 만들어야 한다는 저의 연설에 대해 열렬한 박수를 보내줬습니다.\\n\\n존경하는 국민 여러분.\\n\\n지난 3일간 저는 김정은 위원장과 비핵화와 북미 대화에 대해서도 많은 대화를 나누었습니다. 첫날 회담에서도 대부분의 시간을 비핵화를 논의하는데 사용했습니다.\\n\\n김정은 위원장은 확고한 비핵화 의지를 거듭, 거듭 확약했습니다.\\n\\n가능한 한 빠른 시기에 완전한 비핵화를 끝내고 경제발전에 집중하고 싶다는 희망을 밝혔습니다.\\n\\n다만 북미정상회담에서 합의한 4개 합의사항이 함께 이행돼야 하므로 미국이 그 정신에 따라 상응하는 조치를 취해준다면, 영변 핵시설의 영구적 폐기를 포함한 추가적인 비핵화 조치를 계속 실행해나갈 용의가 있음을 표명했습니다.\\n\\n그리고 그 의지를 다시 한 번 분명하게 밝히는 차원에서 우선 동창리 미사일 엔진 시험장과 미사일 발사대를 유관국 전문가들의 참관 하에 영구적으로 폐기할 것을 확약했습니다.\\n\\n북한이 평양공동선언에서 사용한 '참관'이나 '영구적 폐기'라는 용어는, 결국 검증\""
      ]
     },
     "execution_count": 5,
     "metadata": {},
     "output_type": "execute_result"
    }
   ],
   "source": [
    "# 북미정상회담 데이터 \n",
    "with open('./data/pyongyang_fin.txt', 'r', encoding='utf-8') as f:\n",
    "    texts = f.read()\n",
    "texts[:1000]"
   ]
  },
  {
   "cell_type": "code",
   "execution_count": 33,
   "metadata": {},
   "outputs": [
    {
     "name": "stderr",
     "output_type": "stream",
     "text": [
      "C:\\Anaconda3\\lib\\site-packages\\ipykernel_launcher.py:1: ParserWarning: Falling back to the 'python' engine because the 'c' engine does not support regex separators (separators > 1 char and different from '\\s+' are interpreted as regex); you can avoid this warning by specifying engine='python'.\n",
      "  \"\"\"Entry point for launching an IPython kernel.\n"
     ]
    }
   ],
   "source": [
    "df = pd.read_csv('./data/pyongyang_fin.txt', encoding='utf-8', sep=\"\\n\\n\" , names=['text'])"
   ]
  },
  {
   "cell_type": "code",
   "execution_count": 34,
   "metadata": {},
   "outputs": [
    {
     "data": {
      "text/html": [
       "<div>\n",
       "<style scoped>\n",
       "    .dataframe tbody tr th:only-of-type {\n",
       "        vertical-align: middle;\n",
       "    }\n",
       "\n",
       "    .dataframe tbody tr th {\n",
       "        vertical-align: top;\n",
       "    }\n",
       "\n",
       "    .dataframe thead th {\n",
       "        text-align: right;\n",
       "    }\n",
       "</style>\n",
       "<table border=\"1\" class=\"dataframe\">\n",
       "  <thead>\n",
       "    <tr style=\"text-align: right;\">\n",
       "      <th></th>\n",
       "      <th>text</th>\n",
       "    </tr>\n",
       "  </thead>\n",
       "  <tbody>\n",
       "    <tr>\n",
       "      <th>0</th>\n",
       "      <td>존경하는 국민여러분. 성원해 주신 덕분에 평양에 잘 다녀왔습니다.</td>\n",
       "    </tr>\n",
       "    <tr>\n",
       "      <th>1</th>\n",
       "      <td>국민 여러분께서 보셨듯이 정상회담에서 좋은 합의를 이뤘고, 최상의 환대를 받았습니다...</td>\n",
       "    </tr>\n",
       "    <tr>\n",
       "      <th>2</th>\n",
       "      <td>남북관계를 크게 진전시키고 두 정상 간의 신뢰 구축에도 큰 도움이 된 방문이었다고 ...</td>\n",
       "    </tr>\n",
       "    <tr>\n",
       "      <th>3</th>\n",
       "      <td>북측에서는 짧은 준비기간에도 불구하고 우리 대표단을 정성을 다해 맞아 주었습니다.</td>\n",
       "    </tr>\n",
       "    <tr>\n",
       "      <th>4</th>\n",
       "      <td>오고 가는 동안 공항과 길가에서 열렬하게 환영해주고 환송해준 평양 시민들께 각별한 ...</td>\n",
       "    </tr>\n",
       "  </tbody>\n",
       "</table>\n",
       "</div>"
      ],
      "text/plain": [
       "                                                text\n",
       "0               존경하는 국민여러분. 성원해 주신 덕분에 평양에 잘 다녀왔습니다.\n",
       "1  국민 여러분께서 보셨듯이 정상회담에서 좋은 합의를 이뤘고, 최상의 환대를 받았습니다...\n",
       "2  남북관계를 크게 진전시키고 두 정상 간의 신뢰 구축에도 큰 도움이 된 방문이었다고 ...\n",
       "3      북측에서는 짧은 준비기간에도 불구하고 우리 대표단을 정성을 다해 맞아 주었습니다.\n",
       "4  오고 가는 동안 공항과 길가에서 열렬하게 환영해주고 환송해준 평양 시민들께 각별한 ..."
      ]
     },
     "execution_count": 34,
     "metadata": {},
     "output_type": "execute_result"
    }
   ],
   "source": [
    "df.head()"
   ]
  },
  {
   "cell_type": "code",
   "execution_count": null,
   "metadata": {},
   "outputs": [],
   "source": [
    "# excel , csv\n",
    "# df = pd.read_excel('./data/xx.xlsx')\n",
    "# df = pd.read_csv('./data/xx.xlsx')\n",
    "\n",
    "# hive, db\n",
    "# conn = pyodbc.connect('DSN_B02_HIVE_ODBC;UID=da2_master;PWD=xxxx;charaset=utf8',autocommit=True)\n",
    "# sql = \"select * from xxx\"\n",
    "# df = pd.read_sql(sql, conn)\n",
    "\n",
    "# pyspark\n",
    "# df = hc.sql('select * from xxx')"
   ]
  },
  {
   "cell_type": "markdown",
   "metadata": {},
   "source": [
    "# EDA"
   ]
  },
  {
   "cell_type": "code",
   "execution_count": 35,
   "metadata": {},
   "outputs": [
    {
     "data": {
      "text/plain": [
       "(30, 1)"
      ]
     },
     "execution_count": 35,
     "metadata": {},
     "output_type": "execute_result"
    }
   ],
   "source": [
    "df.shape"
   ]
  },
  {
   "cell_type": "code",
   "execution_count": 36,
   "metadata": {},
   "outputs": [
    {
     "data": {
      "text/html": [
       "<div>\n",
       "<style scoped>\n",
       "    .dataframe tbody tr th:only-of-type {\n",
       "        vertical-align: middle;\n",
       "    }\n",
       "\n",
       "    .dataframe tbody tr th {\n",
       "        vertical-align: top;\n",
       "    }\n",
       "\n",
       "    .dataframe thead th {\n",
       "        text-align: right;\n",
       "    }\n",
       "</style>\n",
       "<table border=\"1\" class=\"dataframe\">\n",
       "  <thead>\n",
       "    <tr style=\"text-align: right;\">\n",
       "      <th></th>\n",
       "      <th>text</th>\n",
       "    </tr>\n",
       "  </thead>\n",
       "  <tbody>\n",
       "    <tr>\n",
       "      <th>0</th>\n",
       "      <td>존경하는 국민여러분. 성원해 주신 덕분에 평양에 잘 다녀왔습니다.</td>\n",
       "    </tr>\n",
       "    <tr>\n",
       "      <th>1</th>\n",
       "      <td>국민 여러분께서 보셨듯이 정상회담에서 좋은 합의를 이뤘고, 최상의 환대를 받았습니다...</td>\n",
       "    </tr>\n",
       "    <tr>\n",
       "      <th>2</th>\n",
       "      <td>남북관계를 크게 진전시키고 두 정상 간의 신뢰 구축에도 큰 도움이 된 방문이었다고 ...</td>\n",
       "    </tr>\n",
       "    <tr>\n",
       "      <th>3</th>\n",
       "      <td>북측에서는 짧은 준비기간에도 불구하고 우리 대표단을 정성을 다해 맞아 주었습니다.</td>\n",
       "    </tr>\n",
       "    <tr>\n",
       "      <th>4</th>\n",
       "      <td>오고 가는 동안 공항과 길가에서 열렬하게 환영해주고 환송해준 평양 시민들께 각별한 ...</td>\n",
       "    </tr>\n",
       "  </tbody>\n",
       "</table>\n",
       "</div>"
      ],
      "text/plain": [
       "                                                text\n",
       "0               존경하는 국민여러분. 성원해 주신 덕분에 평양에 잘 다녀왔습니다.\n",
       "1  국민 여러분께서 보셨듯이 정상회담에서 좋은 합의를 이뤘고, 최상의 환대를 받았습니다...\n",
       "2  남북관계를 크게 진전시키고 두 정상 간의 신뢰 구축에도 큰 도움이 된 방문이었다고 ...\n",
       "3      북측에서는 짧은 준비기간에도 불구하고 우리 대표단을 정성을 다해 맞아 주었습니다.\n",
       "4  오고 가는 동안 공항과 길가에서 열렬하게 환영해주고 환송해준 평양 시민들께 각별한 ..."
      ]
     },
     "execution_count": 36,
     "metadata": {},
     "output_type": "execute_result"
    }
   ],
   "source": [
    "df.head()"
   ]
  },
  {
   "cell_type": "code",
   "execution_count": 37,
   "metadata": {},
   "outputs": [
    {
     "data": {
      "text/html": [
       "<div>\n",
       "<style scoped>\n",
       "    .dataframe tbody tr th:only-of-type {\n",
       "        vertical-align: middle;\n",
       "    }\n",
       "\n",
       "    .dataframe tbody tr th {\n",
       "        vertical-align: top;\n",
       "    }\n",
       "\n",
       "    .dataframe thead th {\n",
       "        text-align: right;\n",
       "    }\n",
       "</style>\n",
       "<table border=\"1\" class=\"dataframe\">\n",
       "  <thead>\n",
       "    <tr style=\"text-align: right;\">\n",
       "      <th></th>\n",
       "      <th>text</th>\n",
       "    </tr>\n",
       "  </thead>\n",
       "  <tbody>\n",
       "    <tr>\n",
       "      <th>count</th>\n",
       "      <td>30</td>\n",
       "    </tr>\n",
       "    <tr>\n",
       "      <th>unique</th>\n",
       "      <td>30</td>\n",
       "    </tr>\n",
       "    <tr>\n",
       "      <th>top</th>\n",
       "      <td>이와 같이 북한이 우리와 비핵화의 구체적 방안에 대해 진지하게 염원한 것은 지난 날...</td>\n",
       "    </tr>\n",
       "    <tr>\n",
       "      <th>freq</th>\n",
       "      <td>1</td>\n",
       "    </tr>\n",
       "  </tbody>\n",
       "</table>\n",
       "</div>"
      ],
      "text/plain": [
       "                                                     text\n",
       "count                                                  30\n",
       "unique                                                 30\n",
       "top     이와 같이 북한이 우리와 비핵화의 구체적 방안에 대해 진지하게 염원한 것은 지난 날...\n",
       "freq                                                    1"
      ]
     },
     "execution_count": 37,
     "metadata": {},
     "output_type": "execute_result"
    }
   ],
   "source": [
    "df.describe()"
   ]
  },
  {
   "cell_type": "code",
   "execution_count": 38,
   "metadata": {},
   "outputs": [
    {
     "name": "stdout",
     "output_type": "stream",
     "text": [
      "<class 'pandas.core.frame.DataFrame'>\n",
      "RangeIndex: 30 entries, 0 to 29\n",
      "Data columns (total 1 columns):\n",
      "text    30 non-null object\n",
      "dtypes: object(1)\n",
      "memory usage: 320.0+ bytes\n"
     ]
    }
   ],
   "source": [
    "df.info()"
   ]
  },
  {
   "cell_type": "code",
   "execution_count": 29,
   "metadata": {},
   "outputs": [],
   "source": [
    "# df.hist(bins=10)"
   ]
  },
  {
   "cell_type": "markdown",
   "metadata": {},
   "source": [
    "# Text Preprocessing"
   ]
  },
  {
   "cell_type": "code",
   "execution_count": 39,
   "metadata": {},
   "outputs": [],
   "source": [
    "df_text = df['text'].copy()"
   ]
  },
  {
   "cell_type": "code",
   "execution_count": 53,
   "metadata": {},
   "outputs": [
    {
     "data": {
      "text/plain": [
       "[('파이썬', 'Noun'),\n",
       " ('을', 'Josa'),\n",
       " ('활용', 'Noun'),\n",
       " ('한', 'Josa'),\n",
       " ('자연어', 'Noun'),\n",
       " ('수업', 'Noun'),\n",
       " ('자료', 'Noun')]"
      ]
     },
     "execution_count": 53,
     "metadata": {},
     "output_type": "execute_result"
    }
   ],
   "source": [
    "# Twitter\n",
    "Okt().pos('파이썬을 활용한 자연어 수업자료')"
   ]
  },
  {
   "cell_type": "code",
   "execution_count": 2,
   "metadata": {
    "ExecuteTime": {
     "end_time": "2019-05-19T13:38:00.422174Z",
     "start_time": "2019-05-19T13:38:00.080946Z"
    }
   },
   "outputs": [],
   "source": [
    "from ckonlpy.tag import Twitter\n",
    "from konlpy.tag import Okt, Kkma, Hannanum\n",
    "t = Twitter()\n",
    "twitter = Okt()\n",
    "kkma = Kkma()\n",
    "# mecab = Mecab() # mecab은 윈도우에서 사용 불가\n",
    "hannanum = Hannanum()"
   ]
  },
  {
   "cell_type": "code",
   "execution_count": 40,
   "metadata": {},
   "outputs": [
    {
     "data": {
      "text/plain": [
       "[('kkma', <konlpy.tag._kkma.Kkma at 0x25c31f10b8>),\n",
       " ('twitter', <konlpy.tag._okt.Okt at 0x25c315eeb8>),\n",
       " ('hannanum', <konlpy.tag._hannanum.Hannanum at 0x25c32e94e0>)]"
      ]
     },
     "execution_count": 40,
     "metadata": {},
     "output_type": "execute_result"
    }
   ],
   "source": [
    "# 3가지 형태소 분석기\n",
    "taggers = [('kkma',Kkma()),\n",
    "           ('twitter', Okt()),\n",
    "           ('hannanum', Hannanum())    \n",
    "           # mecab은 window에서 지원안됨\n",
    "]\n",
    "taggers"
   ]
  },
  {
   "cell_type": "code",
   "execution_count": 41,
   "metadata": {
    "scrolled": true
   },
   "outputs": [
    {
     "name": "stdout",
     "output_type": "stream",
     "text": [
      "[('테스트', 'NNG'), ('문장', 'NNG')]\n"
     ]
    }
   ],
   "source": [
    "pprint(taggers[0][1].pos('테스트 문장'))"
   ]
  },
  {
   "cell_type": "code",
   "execution_count": 42,
   "metadata": {},
   "outputs": [
    {
     "name": "stdout",
     "output_type": "stream",
     "text": [
      "[('테스트', 'Noun'), ('문장', 'Noun')]\n"
     ]
    }
   ],
   "source": [
    "pprint(taggers[1][1].pos('테스트 문장'))"
   ]
  },
  {
   "cell_type": "code",
   "execution_count": 43,
   "metadata": {},
   "outputs": [
    {
     "name": "stdout",
     "output_type": "stream",
     "text": [
      "[('테스트', 'N'), ('문장', 'N')]\n"
     ]
    }
   ],
   "source": [
    "pprint(taggers[2][1].pos('테스트 문장'))"
   ]
  },
  {
   "cell_type": "code",
   "execution_count": 44,
   "metadata": {},
   "outputs": [
    {
     "name": "stdout",
     "output_type": "stream",
     "text": [
      "{'E': '어미',\n",
      " 'EC': '연결 어미',\n",
      " 'EF': '종결 어미',\n",
      " 'EP': '선어말어미',\n",
      " 'ET': '전성 어미',\n",
      " 'F': '외국어',\n",
      " 'I': '독립언',\n",
      " 'II': '감탄사',\n",
      " 'J': '관계언',\n",
      " 'JC': '격조사',\n",
      " 'JP': '서술격 조사',\n",
      " 'JX': '보조사',\n",
      " 'M': '수식언',\n",
      " 'MA': '부사',\n",
      " 'MM': '관형사',\n",
      " 'N': '체언',\n",
      " 'NB': '의존명사',\n",
      " 'NC': '보통명사',\n",
      " 'NN': '수사',\n",
      " 'NP': '대명사',\n",
      " 'NQ': '고유명사',\n",
      " 'P': '용언',\n",
      " 'PA': '형용사',\n",
      " 'PV': '동사',\n",
      " 'PX': '보조 용언',\n",
      " 'S': '기호',\n",
      " 'X': '접사',\n",
      " 'XP': '접두사',\n",
      " 'XS': '접미사'}\n"
     ]
    }
   ],
   "source": [
    "pprint(taggers[2][1].tagset)"
   ]
  },
  {
   "cell_type": "markdown",
   "metadata": {},
   "source": [
    "# pos tagging & word count"
   ]
  },
  {
   "cell_type": "code",
   "execution_count": 45,
   "metadata": {},
   "outputs": [],
   "source": [
    "sents = df_text.values.tolist()"
   ]
  },
  {
   "cell_type": "code",
   "execution_count": 47,
   "metadata": {},
   "outputs": [
    {
     "name": "stdout",
     "output_type": "stream",
     "text": [
      "tagger name = kkma, 4.03 secs\n",
      "tagger name = twitter, 1.84 secs\n",
      "tagger name = hannanum, 0.387 secs\n"
     ]
    }
   ],
   "source": [
    "import time\n",
    "\n",
    "tokens = []\n",
    "\n",
    "for name, tagger in taggers:\n",
    "    \n",
    "    process_time = time.time()\n",
    "    tokens.append([pos for sent in sents for pos in tagger.pos(sent)])\n",
    "    process_time = time.time() - process_time\n",
    "    \n",
    "    print('tagger name = {}, {:.3} secs'.format(name, process_time))"
   ]
  },
  {
   "cell_type": "code",
   "execution_count": 48,
   "metadata": {},
   "outputs": [
    {
     "data": {
      "text/plain": [
       "3"
      ]
     },
     "execution_count": 48,
     "metadata": {},
     "output_type": "execute_result"
    }
   ],
   "source": [
    "len(tokens)"
   ]
  },
  {
   "cell_type": "code",
   "execution_count": 50,
   "metadata": {
    "scrolled": true
   },
   "outputs": [
    {
     "name": "stdout",
     "output_type": "stream",
     "text": [
      "[(('하', 'XSV'), 56),\n",
      " (('.', 'SF'), 46),\n",
      " (('ㄴ', 'ETD'), 35),\n",
      " (('을', 'JKO'), 35),\n",
      " (('에', 'JKM'), 33),\n",
      " (('를', 'JKO'), 33),\n",
      " (('습니다', 'EFN'), 30),\n",
      " (('었', 'EPT'), 28),\n",
      " (('의', 'JKG'), 26),\n",
      " (('는', 'ETD'), 23),\n",
      " (('어', 'ECS'), 18),\n",
      " (('ㄹ', 'ETD'), 17),\n",
      " (('이', 'VCP'), 17),\n",
      " (('고', 'ECE'), 15),\n",
      " (('ㅂ니다', 'EFN'), 15),\n",
      " (('것', 'NNB'), 14),\n",
      " (('는', 'JX'), 14),\n",
      " (('에서', 'JKM'), 13),\n",
      " (('이', 'JKS'), 12),\n",
      " (('국민', 'NNG'), 10),\n",
      " (('회담', 'NNG'), 10),\n",
      " (('들', 'XSN'), 10),\n",
      " (('하', 'VV'), 10),\n",
      " (('비핵화', 'NNG'), 10),\n",
      " (('김', 'NNG'), 9),\n",
      " (('위원장', 'NNG'), 9),\n",
      " (('대화', 'NNG'), 9),\n",
      " (('게', 'ECD'), 9),\n",
      " (('남북', 'NNG'), 9),\n",
      " (('도', 'JX'), 9),\n",
      " (('와', 'JKM'), 9),\n",
      " (('은', 'JX'), 9),\n",
      " (('가', 'JKS'), 9),\n",
      " (('은', 'ETD'), 8),\n",
      " (('과', 'JKM'), 8),\n",
      " (('우리', 'NP'), 8),\n",
      " (('평양', 'NNP'), 7),\n",
      " (('합의', 'NNG'), 7),\n",
      " (('정은', 'NNG'), 7),\n",
      " (('하', 'XSA'), 7),\n",
      " (('저', 'NP'), 7),\n",
      " (('으로', 'JKM'), 7),\n",
      " (('북미', 'NNG'), 7),\n",
      " (('되', 'XSV'), 7),\n",
      " (('북한', 'NNG'), 7),\n",
      " (('정상', 'NNG'), 6),\n",
      " ((',', 'SP'), 6),\n",
      " (('있', 'VV'), 6),\n",
      " (('주', 'VXV'), 6),\n",
      " (('대하', 'VV'), 6),\n",
      " (('어서', 'ECD'), 6),\n",
      " ((\"'\", 'SS'), 6),\n",
      " (('위하', 'VV'), 6),\n",
      " (('기', 'ETN'), 6),\n",
      " (('았', 'EPT'), 5),\n",
      " (('수', 'NNB'), 5),\n",
      " (('와', 'JC'), 5),\n",
      " (('크', 'VA'), 4),\n",
      " (('되', 'VV'), 4),\n",
      " (('지', 'ECD'), 4),\n",
      " (('로', 'JKM'), 4),\n",
      " (('그', 'NP'), 4),\n",
      " (('ㄴ다는', 'ETD'), 4),\n",
      " (('의지', 'NNG'), 4),\n",
      " (('함께', 'MAG'), 4),\n",
      " (('폐기', 'NNG'), 4),\n",
      " (('라는', 'ETD'), 4),\n",
      " (('뜻', 'NNG'), 4),\n",
      " (('협력', 'NNG'), 4),\n",
      " (('기로', 'ECD'), 4),\n",
      " (('존경', 'NNG'), 3),\n",
      " (('여러', 'MDT'), 3),\n",
      " (('일', 'NNM'), 3),\n",
      " (('동안', 'NNG'), 3),\n",
      " (('의미', 'NNG'), 3),\n",
      " (('싶', 'VXA'), 3),\n",
      " (('관계', 'NNG'), 3),\n",
      " (('이', 'JKC'), 3),\n",
      " (('방문', 'NNG'), 3),\n",
      " (('다고', 'EFN'), 3),\n",
      " (('북측', 'NNG'), 3),\n",
      " (('께', 'JKM'), 3),\n",
      " (('드리', 'VV'), 3),\n",
      " (('않', 'VXV'), 3),\n",
      " (('백두산', 'NNP'), 3),\n",
      " (('열리', 'VV'), 3),\n",
      " (('에게', 'JKM'), 3),\n",
      " (('한반도', 'NNG'), 3),\n",
      " (('평화', 'NNG'), 3),\n",
      " (('지나', 'VV'), 3),\n",
      " (('논의', 'NNG'), 3),\n",
      " (('빠르', 'VA'), 3),\n",
      " (('완전', 'NNG'), 3),\n",
      " (('희망', 'NNG'), 3),\n",
      " (('밝히', 'VV'), 3),\n",
      " (('미국', 'NNP'), 3),\n",
      " (('그', 'MDT'), 3),\n",
      " (('아', 'ECS'), 3),\n",
      " (('조치', 'NNG'), 3),\n",
      " (('영구적', 'NNG'), 3),\n",
      " (('과', 'JC'), 3),\n",
      " (('공동', 'NNG'), 3),\n",
      " (('같', 'VA'), 3),\n",
      " (('이', 'NP'), 3),\n",
      " (('통하', 'VV'), 3),\n",
      " (('가깝', 'VV'), 3),\n",
      " (('시일', 'NNG'), 3),\n",
      " (('내', 'NNB'), 3),\n",
      " (('개최', 'NNG'), 3),\n",
      " (('열', 'VV'), 3),\n",
      " (('시대', 'NNG'), 3),\n",
      " (('분', 'NNB'), 2),\n",
      " (('덕분', 'NNG'), 2),\n",
      " (('다녀오', 'VV'), 2),\n",
      " (('여러분', 'NP'), 2),\n",
      " (('이루', 'VV'), 2),\n",
      " (('3', 'NR'), 2),\n",
      " (('만', 'JX'), 2),\n",
      " (('시간', 'NNG'), 2),\n",
      " (('많', 'VA'), 2),\n",
      " (('나누', 'VV'), 2),\n",
      " (('두', 'VV'), 2),\n",
      " (('진전', 'NNG'), 2),\n",
      " (('시키', 'XSV'), 2),\n",
      " (('간', 'NNG'), 2),\n",
      " (('다하', 'VV'), 2),\n",
      " (('맞', 'VV'), 2),\n",
      " (('아', 'ECD'), 2),\n",
      " (('오', 'VV'), 2),\n",
      " (('공항', 'NNG'), 2),\n",
      " (('열렬', 'XR'), 2),\n",
      " (('시민', 'NNG'), 2),\n",
      " (('을', 'ETD'), 2),\n",
      " (('없', 'VA'), 2),\n",
      " (('오가', 'VV'), 2),\n",
      " (('감사', 'NNG'), 2),\n",
      " (('월', 'NNM'), 2),\n",
      " (('대통령', 'NNG'), 2),\n",
      " (('연설', 'NNG'), 2),\n",
      " (('기회', 'NNG'), 2),\n",
      " (('핵', 'NNG'), 2),\n",
      " (('위협', 'NNG'), 2),\n",
      " (('어야', 'ECD'), 2),\n",
      " (('거듭', 'MAG'), 2),\n",
      " (('확약', 'NNG'), 2),\n",
      " (('가능', 'NNG'), 2),\n",
      " (('시기', 'NNG'), 2),\n",
      " (('발전', 'NNG'), 2),\n",
      " (('이행', 'NNG'), 2),\n",
      " (('ㄴ다면', 'ECE'), 2),\n",
      " (('실행', 'NNG'), 2),\n",
      " (('표명', 'NNG'), 2),\n",
      " (('다시', 'MAG'), 2),\n",
      " (('한', 'MDN'), 2),\n",
      " (('번', 'NNB'), 2),\n",
      " (('미사일', 'NNG'), 2),\n",
      " (('국', 'NNG'), 2),\n",
      " (('참관', 'NNG'), 2),\n",
      " (('선언', 'NNG'), 2),\n",
      " (('같이', 'MAG'), 2),\n",
      " (('구체적', 'NNG'), 2),\n",
      " (('방안', 'NNG'), 2),\n",
      " (('까지', 'JX'), 2),\n",
      " (('입장', 'NNG'), 2),\n",
      " (('긴밀히', 'MAG'), 2),\n",
      " (('요청', 'NNG'), 2),\n",
      " (('재개', 'NNG'), 2),\n",
      " (('이', 'NR'), 2),\n",
      " (('생각', 'NNG'), 2),\n",
      " (('군사', 'NNG'), 2),\n",
      " (('지만', 'ECE'), 2),\n",
      " (('올해', 'NNG'), 2),\n",
      " (('고려', 'NNP'), 2),\n",
      " (('전', 'NNG'), 2),\n",
      " (('적', 'XSN'), 2),\n",
      " (('서울', 'NNG'), 2),\n",
      " (('오늘', 'NNG'), 2),\n",
      " (('겠', 'EPT'), 2),\n",
      " (('정부', 'NNG'), 2),\n",
      " (('숙원', 'NNG'), 2),\n",
      " (('성원', 'NNG'), 1),\n",
      " (('주신', 'NNG'), 1),\n",
      " (('잘', 'MAG'), 1),\n",
      " (('께서', 'JKS'), 1),\n",
      " (('보시', 'VV'), 1),\n",
      " (('듯이', 'ECD'), 1),\n",
      " (('좋', 'VA'), 1),\n",
      " (('최상', 'NNG'), 1),\n",
      " (('환대', 'NNG'), 1),\n",
      " (('받', 'VV'), 1),\n",
      " (('무엇', 'NNG'), 1),\n",
      " (('보다', 'JKM'), 1),\n",
      " (('차례', 'NNG'), 1),\n",
      " (('나', 'NP'), 1),\n",
      " (('길', 'VA'), 1),\n",
      " (('허심탄회', 'NNG'), 1),\n",
      " (('더', 'EPT'), 1),\n",
      " (('두', 'MDN'), 1),\n",
      " (('신뢰', 'NNG'), 1),\n",
      " (('구축', 'NNG'), 1),\n",
      " (('도움', 'NNG'), 1),\n",
      " (('평가', 'NNG'), 1),\n",
      " (('짧', 'VA'), 1),\n",
      " (('준비', 'NNG'), 1),\n",
      " (('기간', 'NNG'), 1),\n",
      " (('불구', 'XR'), 1),\n",
      " (('대표단', 'NNG'), 1),\n",
      " (('정성', 'NNG'), 1),\n",
      " (('갈', 'VV'), 1),\n",
      " (('길가', 'NNG'), 1),\n",
      " (('환영', 'NNG'), 1),\n",
      " (('주고', 'NNG'), 1),\n",
      " (('환송', 'NNG'), 1),\n",
      " (('각별', 'NNG'), 1),\n",
      " (('인사', 'NNG'), 1),\n",
      " (('삼지연', 'NNP'), 1),\n",
      " (('따뜻', 'XR'), 1),\n",
      " (('배웅', 'NNG'), 1),\n",
      " (('지역', 'NNG'), 1),\n",
      " (('주민', 'NNG'), 1),\n",
      " (('5', 'NR'), 1),\n",
      " (('1', 'NR'), 1),\n",
      " (('경기장', 'NNG'), 1),\n",
      " (('대규모', 'NNG'), 1),\n",
      " (('집', 'NNG'), 1),\n",
      " (('단체', 'NNG'), 1),\n",
      " (('조', 'NNG'), 1),\n",
      " (('공연', 'NNG'), 1),\n",
      " (('15', 'NR'), 1),\n",
      " (('대한민국', 'NNG'), 1),\n",
      " (('으로써', 'JKM'), 1),\n",
      " (('사상', 'NNG'), 1),\n",
      " (('최초', 'NNG'), 1),\n",
      " (('가지', 'VV'), 1),\n",
      " (('영구히', 'MAG'), 1),\n",
      " (('핵무기', 'NNG'), 1),\n",
      " (('터전', 'NNG'), 1),\n",
      " (('만들', 'VV'), 1),\n",
      " (('저의', 'NNG'), 1),\n",
      " (('박수', 'NNG'), 1),\n",
      " (('보내주', 'VV'), 1),\n",
      " (('일간', 'MAG'), 1),\n",
      " (('첫날', 'NNG'), 1),\n",
      " (('대부분', 'NNG'), 1),\n",
      " (('는데', 'ECD'), 1),\n",
      " (('사용하', 'VV'), 1),\n",
      " (('확고', 'XR'), 1),\n",
      " (('한', 'NNG'), 1),\n",
      " (('끝내', 'VV'), 1),\n",
      " (('경제', 'NNG'), 1),\n",
      " (('집중', 'NNG'), 1),\n",
      " (('다는', 'ETD'), 1),\n",
      " (('다만', 'MAG'), 1),\n",
      " (('4', 'NR'), 1),\n",
      " (('개', 'NNM'), 1),\n",
      " (('사항', 'NNG'), 1),\n",
      " (('므로', 'ECD'), 1),\n",
      " (('정신', 'NNG'), 1),\n",
      " (('따르', 'VV'), 1),\n",
      " (('상응', 'NNG'), 1),\n",
      " (('취하', 'VV'), 1),\n",
      " (('영', 'NNG'), 1),\n",
      " (('변', 'NNG'), 1),\n",
      " (('시설', 'NNG'), 1),\n",
      " (('포함', 'NNG'), 1),\n",
      " (('추가', 'NNG'), 1),\n",
      " (('적인', 'NNG'), 1),\n",
      " (('계속', 'MAG'), 1),\n",
      " (('나가', 'VV'), 1),\n",
      " (('용의', 'NNG'), 1),\n",
      " (('있음', 'NNG'), 1),\n",
      " (('그리', 'VV'), 1),\n",
      " (('분명', 'NNG'), 1),\n",
      " (('차원', 'NNG'), 1),\n",
      " (('우선', 'NNG'), 1),\n",
      " (('동창', 'NNG'), 1),\n",
      " (('리', 'NNG'), 1),\n",
      " (('엔진', 'NNG'), 1),\n",
      " (('시험장', 'NNG'), 1),\n",
      " (('발사대', 'NNG'), 1),\n",
      " (('유관', 'NNG'), 1),\n",
      " (('전문가', 'NNG'), 1),\n",
      " (('하', 'NNG'), 1),\n",
      " (('사용', 'NNG'), 1),\n",
      " (('이나', 'JC'), 1),\n",
      " (('용어', 'NNG'), 1),\n",
      " (('결국', 'NNG'), 1),\n",
      " (('검증', 'NNG'), 1),\n",
      " (('불가', 'NNG'), 1),\n",
      " (('역적', 'NNG'), 1),\n",
      " (('말과', 'NNG'), 1),\n",
      " (('과정', 'NNG'), 1),\n",
      " (('진행', 'NNG'), 1),\n",
      " (('폼페이', 'NNG'), 1),\n",
      " (('오', 'NNG'), 1),\n",
      " (('장관', 'NNG'), 1),\n",
      " (('방북', 'NNG'), 1),\n",
      " (('트럼프', 'NNG'), 1),\n",
      " (('2', 'NR'), 1),\n",
      " (('차', 'NNM'), 1),\n",
      " (('조속히', 'MAG'), 1),\n",
      " (('진지', 'XR'), 1),\n",
      " (('염원', 'NNG'), 1),\n",
      " (('날', 'NNG'), 1),\n",
      " (('달라지', 'VV'), 1),\n",
      " (('모습', 'NNG'), 1),\n",
      " (('지금', 'NNG'), 1),\n",
      " (('외의', 'NNG'), 1),\n",
      " (('협의', 'NNG'), 1),\n",
      " (('문제', 'NNG'), 1),\n",
      " (('다', 'MAG'), 1),\n",
      " (('보이', 'VV'), 1),\n",
      " (('며', 'ECE'), 1),\n",
      " (('거부', 'NNG'), 1),\n",
      " (('오', 'VX'), 1),\n",
      " (('그러나', 'MAC'), 1),\n",
      " (('순탄', 'XR'), 1),\n",
      " (('연계', 'NNG'), 1),\n",
      " (('사실', 'NNG'), 1),\n",
      " (('인식', 'NNG'), 1),\n",
      " (('면서', 'ECE'), 1),\n",
      " (('중재', 'NNG'), 1),\n",
      " (('한편', 'MAG'), 1),\n",
      " (('제의', 'NNG'), 1),\n",
      " (('역', 'NNG'), 1),\n",
      " (('지사', 'NNG'), 1),\n",
      " (('지', 'VV'), 1),\n",
      " (('해가면서', 'UN'), 1),\n",
      " (('과의', 'NNG'), 1),\n",
      " (('조기', 'NNG'), 1),\n",
      " (('번', 'NNM'), 1),\n",
      " (('여건', 'NNG'), 1),\n",
      " (('조성', 'NNG'), 1),\n",
      " (('이번', 'NNG'), 1),\n",
      " (('관해', 'NNG'), 1),\n",
      " (('가장', 'MAG'), 1),\n",
      " (('중요', 'NNG'), 1),\n",
      " (('결실', 'NNG'), 1),\n",
      " (('분야', 'NNG'), 1),\n",
      " (('제대로', 'MAG'), 1),\n",
      " (('남', 'NNG'), 1),\n",
      " (('북', 'NNG'), 1),\n",
      " (('수도권', 'NNG'), 1),\n",
      " (('겨냥', 'NNG'), 1),\n",
      " (('장', 'NNG'), 1),\n",
      " (('사정', 'NNG'), 1),\n",
      " (('포', 'NNG'), 1),\n",
      " (('상호', 'NNG'), 1),\n",
      " (('간의', 'NNG'), 1),\n",
      " (('위협적', 'NNG'), 1),\n",
      " (('무기', 'NNG'), 1),\n",
      " (('병력', 'NNG'), 1),\n",
      " (('감축', 'NNG'), 1),\n",
      " (('나아가', 'VV'), 1),\n",
      " (('간', 'NNB'), 1),\n",
      " (('정전', 'NNG'), 1),\n",
      " (('협전', 'UN'), 1),\n",
      " (('이후', 'NNG'), 1),\n",
      " (('아직', 'MAG'), 1),\n",
      " (('끝나', 'VV'), 1),\n",
      " (('종전', 'NNG'), 1),\n",
      " (('나아', 'NNG'), 1),\n",
      " (('미래', 'NNG'), 1),\n",
      " (('전쟁', 'NNG'), 1),\n",
      " (('원천적', 'NNG'), 1),\n",
      " (('없애', 'VV'), 1),\n",
      " (('일', 'NNG'), 1),\n",
      " (('합의서', 'NNG'), 1),\n",
      " (('담', 'VV'), 1),\n",
      " (('못하', 'VX'), 1),\n",
      " (('구두', 'NNG'), 1),\n",
      " (('드', 'VV'), 1),\n",
      " (('도', 'NNM'), 1),\n",
      " (('국회', 'NNG'), 1),\n",
      " (('지자체', 'NNG'), 1),\n",
      " (('교류', 'NNG'), 1),\n",
      " (('활성화', 'NNG'), 1),\n",
      " (('금강산', 'NNP'), 1),\n",
      " (('이산가족', 'NNG'), 1),\n",
      " (('상설', 'NNG'), 1),\n",
      " (('면회소', 'NNG'), 1),\n",
      " (('전면', 'NNG'), 1),\n",
      " (('가동', 'NNG'), 1),\n",
      " (('몰수', 'NNG'), 1),\n",
      " (('해제', 'NNG'), 1),\n",
      " (('동의', 'NNG'), 1),\n",
      " (('건국', 'NNG'), 1),\n",
      " (('1100', 'NR'), 1),\n",
      " (('년', 'NNM'), 1),\n",
      " (('해', 'NNG'), 1),\n",
      " (('이르', 'VV'), 1),\n",
      " (('기념', 'NNG'), 1),\n",
      " (('12', 'NR'), 1),\n",
      " (('대', 'XPN'), 1),\n",
      " (('문화제', 'NNG'), 1),\n",
      " (('전시', 'NNG'), 1),\n",
      " (('제기', 'NNG'), 1),\n",
      " (('제가', 'NNG'), 1),\n",
      " (('가기', 'NNG'), 1),\n",
      " (('직전', 'NNG'), 1),\n",
      " (('14', 'NR'), 1),\n",
      " (('연락', 'NNG'), 1),\n",
      " (('사무소', 'NNG'), 1),\n",
      " (('개성', 'NNP'), 1),\n",
      " (('문', 'NNG'), 1),\n",
      " (('상시', 'NNG'), 1),\n",
      " (('이어지', 'VV'), 1),\n",
      " (('새', 'NNG'), 1),\n",
      " (('롭', 'XSA'), 1),\n",
      " (('정례', 'NNG'), 1),\n",
      " (('화', 'XSN'), 1),\n",
      " (('본격적', 'NNG'), 1),\n",
      " (('서로', 'MAG'), 1),\n",
      " (('그런', 'MDT'), 1),\n",
      " (('갖', 'VV'), 1),\n",
      " (('여유', 'NNG'), 1),\n",
      " (('라고', 'JX'), 1),\n",
      " (('표현', 'NNG'), 1),\n",
      " (('가급적', 'MAG'), 1),\n",
      " (('안', 'NNG'), 1),\n",
      " (('모으', 'VV'), 1),\n",
      " (('나', 'JX'), 1),\n",
      " (('서', 'VV'), 1),\n",
      " (('어도', 'ECD'), 1),\n",
      " (('직접', 'MAG'), 1),\n",
      " (('보', 'VV'), 1),\n",
      " (('번영', 'NNG'), 1),\n",
      " (('육성', 'NNG'), 1),\n",
      " (('듣', 'VV'), 1),\n",
      " (('바라', 'VV'), 1),\n",
      " (('돌아오', 'VV'), 1),\n",
      " (('천지', 'NNP'), 1),\n",
      " (('오르', 'VV'), 1),\n",
      " (('굳이', 'MAG'), 1),\n",
      " (('중국', 'NNG'), 1),\n",
      " (('가', 'VV'), 1),\n",
      " (('아니', 'VCN'), 1),\n",
      " (('라', 'ECD'), 1),\n",
      " (('땅', 'NNG'), 1),\n",
      " (('관광', 'NNG'), 1),\n",
      " (('하루빨리', 'MAG'), 1),\n",
      " (('다짐', 'NNG'), 1),\n",
      " (('이제', 'NNG'), 1),\n",
      " (('범', 'XPN'), 1),\n",
      " (('추진', 'NNG'), 1),\n",
      " (('체계', 'NNG'), 1),\n",
      " (('마련', 'NNG'), 1),\n",
      " (('고위급', 'NNG'), 1),\n",
      " (('성과', 'NNG'), 1),\n",
      " (('삶', 'NNG'), 1),\n",
      " (('실질적', 'NNG'), 1),\n",
      " (('향상', 'NNG'), 1),\n",
      " (('도록', 'ECD'), 1),\n",
      " (('최선', 'NNG'), 1),\n",
      " (('회의', 'NNG'), 1),\n",
      " (('초', 'XPN'), 1),\n",
      " (('당적', 'NNG'), 1),\n",
      " (('당부', 'NNG'), 1),\n",
      " (('오직', 'MAG'), 1),\n",
      " (('힘', 'NNG'), 1),\n",
      " (('지지', 'NNG'), 1),\n",
      " (('응원', 'NNG'), 1),\n",
      " (('무사히', 'MAG'), 1),\n",
      " (('마치', 'VV'), 1),\n",
      " (('살', 'VV'), 1),\n",
      " (('모두', 'NNG'), 1),\n",
      " (('길', 'NNG'), 1),\n",
      " (('늘', 'MAG'), 1)]\n"
     ]
    }
   ],
   "source": [
    "counter = Counter(tokens[0])\n",
    "count = {word:freq for word, freq in counter.items() if (freq>=4) and (word[1:2] == 'NN')}\n",
    "pprint(sorted(counter.items(), key=lambda x:x[1], reverse=True))"
   ]
  },
  {
   "cell_type": "code",
   "execution_count": 54,
   "metadata": {},
   "outputs": [
    {
     "name": "stdout",
     "output_type": "stream",
     "text": [
      "pos kkma\n",
      "[]\n",
      "pos twitter\n",
      "[]\n",
      "pos hannanum\n",
      "[]\n"
     ]
    }
   ],
   "source": [
    "# unknown \n",
    "for (name, _), _tokens in zip(taggers, tokens):\n",
    "    print('pos {}'.format(name))\n",
    "    counter = Counter(_tokens)\n",
    "    counter = {word:freq for word, freq in counter.items() if (freq>=1) and (word[1:1] == 'N')}\n",
    "    pprint(sorted(counter.items(), key=lambda x:x[1], reverse=True))"
   ]
  },
  {
   "cell_type": "code",
   "execution_count": null,
   "metadata": {},
   "outputs": [],
   "source": []
  }
 ],
 "metadata": {
  "kernelspec": {
   "display_name": "Python 3",
   "language": "python",
   "name": "python3"
  },
  "language_info": {
   "codemirror_mode": {
    "name": "ipython",
    "version": 3
   },
   "file_extension": ".py",
   "mimetype": "text/x-python",
   "name": "python",
   "nbconvert_exporter": "python",
   "pygments_lexer": "ipython3",
   "version": "3.6.8"
  },
  "toc": {
   "base_numbering": 1,
   "nav_menu": {},
   "number_sections": true,
   "sideBar": true,
   "skip_h1_title": false,
   "title_cell": "Table of Contents",
   "title_sidebar": "Contents",
   "toc_cell": false,
   "toc_position": {},
   "toc_section_display": true,
   "toc_window_display": false
  },
  "varInspector": {
   "cols": {
    "lenName": 16,
    "lenType": 16,
    "lenVar": 40
   },
   "kernels_config": {
    "python": {
     "delete_cmd_postfix": "",
     "delete_cmd_prefix": "del ",
     "library": "var_list.py",
     "varRefreshCmd": "print(var_dic_list())"
    },
    "r": {
     "delete_cmd_postfix": ") ",
     "delete_cmd_prefix": "rm(",
     "library": "var_list.r",
     "varRefreshCmd": "cat(var_dic_list()) "
    }
   },
   "types_to_exclude": [
    "module",
    "function",
    "builtin_function_or_method",
    "instance",
    "_Feature"
   ],
   "window_display": false
  }
 },
 "nbformat": 4,
 "nbformat_minor": 2
}
