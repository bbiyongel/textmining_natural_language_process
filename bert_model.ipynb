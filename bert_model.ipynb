{
 "cells": [
  {
   "cell_type": "code",
   "execution_count": 1,
   "metadata": {
    "collapsed": true
   },
   "outputs": [],
   "source": [
    "# coding=utf-8\n",
    "# Copyright 2018 The Google AI Language Team Authors and The HugginFace Inc. team.\n",
    "#\n",
    "# Licensed under the Apache License, Version 2.0 (the \"License\");\n",
    "# you may not use this file except in compliance with the License.\n",
    "# You may obtain a copy of the License at\n",
    "#\n",
    "#     http://www.apache.org/licenses/LICENSE-2.0\n",
    "#\n",
    "# Unless required by applicable law or agreed to in writing, software\n",
    "# distributed under the License is distributed on an \"AS IS\" BASIS,\n",
    "# WITHOUT WARRANTIES OR CONDITIONS OF ANY KIND, either express or implied.\n",
    "# See the License for the specific language governing permissions and\n",
    "# limitations under the License."
   ]
  },
  {
   "cell_type": "code",
   "execution_count": 2,
   "metadata": {
    "collapsed": true
   },
   "outputs": [],
   "source": [
    "# 이 코드는 인라이플 버트이해하기 발표자료를 참고했음을 밝힙니다.\n",
    "# Note that this code refers to the Understanding Enliple Bert presentation."
   ]
  },
  {
   "cell_type": "markdown",
   "metadata": {},
   "source": [
    "# Bert Model"
   ]
  },
  {
   "cell_type": "markdown",
   "metadata": {},
   "source": [
    "<img src=\"https://user-images.githubusercontent.com/1250095/49935094-73f99c80-ff13-11e8-8ba5-50a008ed4d20.png\" />"
   ]
  },
  {
   "cell_type": "markdown",
   "metadata": {},
   "source": [
    "BERT는 트랜스포머의 인코더 부분만 사용한다. 트랜스포머와 달리 Positional Encoding 대신 Positional Embedding을 사용한다."
   ]
  },
  {
   "cell_type": "code",
   "execution_count": 4,
   "metadata": {
    "collapsed": true
   },
   "outputs": [],
   "source": [
    "%matplotlib inline\n",
    "import torch\n",
    "import torch.nn as nn\n",
    "import math\n",
    "import matplotlib.pyplot as plt\n",
    "import numpy as np\n",
    "import six\n",
    "\n",
    "from argparse import Namespace"
   ]
  },
  {
   "cell_type": "markdown",
   "metadata": {},
   "source": [
    "## Config"
   ]
  },
  {
   "cell_type": "markdown",
   "metadata": {},
   "source": [
    "BERT 모델을 구성하기에 앞서 모델의 설정을 위해 Config 클래스를 만든다."
   ]
  },
  {
   "cell_type": "code",
   "execution_count": 2,
   "metadata": {
    "collapsed": true
   },
   "outputs": [],
   "source": [
    "class BertConfig(object):\n",
    "    \"\"\"\n",
    "    Configuration class to store the configuration of a `BertModel`.\n",
    "    `BertModel`의 설정을 저장하는 설정 클래스입니다.\n",
    "    \"\"\"\n",
    "    \n",
    "    def __init__(self,\n",
    "                vocab_size,\n",
    "                hidden_size=768, \n",
    "                num_hidden_layers=12, # base model은 12개의 레이어\n",
    "                num_attention_heads=12, # base model은 12개의 어텐션 헤드\n",
    "                intermediate_size=3072, \n",
    "                hidden_act=\"gelu\",\n",
    "                hidden_dropout_prob=0.1,\n",
    "                attention_probs_dropout_prob=0.1,\n",
    "                max_position_embeddings=512,\n",
    "                type_vocab_size=16,\n",
    "                initializer_range=0.02):\n",
    "        \"\"\"Constructs BertConfig.\n",
    "\n",
    "        Args:\n",
    "            vocab_size: Vocabulary size of `inputs_ids` in `BertModel`.\n",
    "                                버트 모델의 inputs_ids의 단어 크기\n",
    "                                그럼 inputs_ids는? 토큰을 아이디로 바꾼 값\n",
    "                                tokenizer.convert_tokens_to_ids(tokens)\n",
    "                        \n",
    "            hidden_size: Size of the encoder layers and the pooler layer.\n",
    "                                인코더 레이어와 pooler 레이어의 크기\n",
    "                        \n",
    "            num_hidden_layers: Number of hidden layers in the Transformer encoder.\n",
    "                                트랜스포머 인코더의 히든 레이어 개수\n",
    "                                \n",
    "            num_attention_heads: Number of attention heads for each attention layer in\n",
    "                the Transformer encoder.\n",
    "                                트랜스포머 인코더의 어텐션 헤드 개수\n",
    "                                \n",
    "            intermediate_size: The size of the \"intermediate\" (i.e., feed-forward)\n",
    "                layer in the Transformer encoder.\n",
    "                                트랜스포머 인코더의 feed-forward 레이어의 크기\n",
    "                                \n",
    "            hidden_act: The non-linear activation function (function or string) in the\n",
    "                encoder and pooler.\n",
    "                                비선형 활성화 함수 \n",
    "                            \n",
    "            hidden_dropout_prob: The dropout probabilitiy for all fully connected\n",
    "                layers in the embeddings, encoder, and pooler.\n",
    "                                임베딩, 인코더, 풀러 안의 완전 연결 레이어 드롭아웃 확률\n",
    "                                \n",
    "            attention_probs_dropout_prob: The dropout ratio for the attention\n",
    "                probabilities.\n",
    "                                어텐션 드롭아웃\n",
    "                                \n",
    "            max_position_embeddings: The maximum sequence length that this model might\n",
    "                ever be used with. Typically set this to something large just in case\n",
    "                (e.g., 512 or 1024 or 2048).\n",
    "                                가장 긴 시퀀스의 길이 제한 \n",
    "                                \n",
    "            type_vocab_size: The vocabulary size of the `token_type_ids` passed into\n",
    "                `BertModel`.\n",
    "                                ?\n",
    "                                \n",
    "            initializer_range: The sttdev of the truncated_normal_initializer for\n",
    "                initializing all weight matrices.\n",
    "                                ?\n",
    "        \"\"\"\n",
    "        self.vocab_size = vocab_size\n",
    "        self.hidden_size = hidden_size\n",
    "        self.num_hidden_layers = num_hidden_layers\n",
    "        self.num_attention_heads = num_attention_heads\n",
    "        self.hidden_act = hidden_act\n",
    "        self.intermediate_size = intermediate_size\n",
    "        self.hidden_dropout_prob = hidden_dropout_prob\n",
    "        self.attention_probs_dropout_prob = attention_probs_dropout_prob\n",
    "        self.max_position_embeddings = max_position_embeddings\n",
    "        self.type_vocab_size = type_vocab_size\n",
    "        self.initializer_range = initializer_range\n",
    "\n",
    "    @classmethod\n",
    "    def from_dict(cls, json_object):\n",
    "        \"\"\"Constructs a `BertConfig` from a Python dictionary of parameters.\"\"\"\n",
    "        config = BertConfig(vocab_size=None)\n",
    "        for (key, value) in six.iteritems(json_object):\n",
    "            config.__dict__[key] = value\n",
    "        return config\n",
    "\n",
    "    @classmethod\n",
    "    def from_json_file(cls, json_file):\n",
    "        \"\"\"Constructs a `BertConfig` from a json file of parameters.\"\"\"\n",
    "        with open(json_file, \"r\") as reader:\n",
    "            text = reader.read()\n",
    "        return cls.from_dict(json.loads(text))\n",
    "\n",
    "    def to_dict(self):\n",
    "        \"\"\"Serializes this instance to a Python dictionary.\"\"\"\n",
    "        output = copy.deepcopy(self.__dict__)\n",
    "        return output\n",
    "\n",
    "    def to_json_string(self):\n",
    "        \"\"\"Serializes this instance to a JSON string.\"\"\"\n",
    "        return json.dumps(self.to_dict(), indent=2, sort_keys=True) + \"\\n\""
   ]
  },
  {
   "cell_type": "markdown",
   "metadata": {},
   "source": [
    "BERT를 초기화 하기 위해 필요한 설정들이다. "
   ]
  },
  {
   "cell_type": "code",
   "execution_count": 5,
   "metadata": {
    "collapsed": true
   },
   "outputs": [],
   "source": [
    "BERT_CONFIG={\n",
    "    'bert_config_file' : 'bert_config.json',\n",
    "    'vocab_file' : 'vocab.txt',\n",
    "    'output_dir' : 'output',\n",
    "    'train_file' : 'train.json',\n",
    "    'predict_file' : 'dev.json',\n",
    "    'init_checkpoint': None, ## checkpint 파일명 or None\n",
    "    'do_lower_case' : False, \n",
    "    'max_seq_length' : 384,\n",
    "    'doc_stride' : 128,\n",
    "    'max_query_length' : 64,\n",
    "    'do_train' : False,\n",
    "    'do_predict' : False,\n",
    "    'do_chat' : True,\n",
    "    'train_batch_size' : 32,\n",
    "    'predict_batch_size' : 8,\n",
    "    'learning_rate' : 5e-5,\n",
    "    'num_train_epochs' : 3.0,\n",
    "    'warmup_proportion' : 0.1,\n",
    "    'save_checkpoints_steps' : 1000,\n",
    "    'iterations_per_loop' : 1000,\n",
    "    'n_best_size' : 20,\n",
    "    'max_answer_length' : 30,\n",
    "    'verbose_logging' : False,\n",
    "    'no_cuda' : False,\n",
    "    'local_rank' : -1,\n",
    "    'accumulate_gradients' : 1,\n",
    "    'seed' : 42,\n",
    "    'gradient_accumulation_steps' : 1\n",
    "}"
   ]
  },
  {
   "cell_type": "code",
   "execution_count": 9,
   "metadata": {},
   "outputs": [
    {
     "data": {
      "text/plain": [
       "False"
      ]
     },
     "execution_count": 9,
     "metadata": {},
     "output_type": "execute_result"
    }
   ],
   "source": [
    "args = Namespace(**BERT_CONFIG)\n",
    "\n",
    "# BERT_CONFIG.do_train -> 불가능\n",
    "args.do_train"
   ]
  },
  {
   "cell_type": "markdown",
   "metadata": {},
   "source": [
    "## GELU"
   ]
  },
  {
   "cell_type": "markdown",
   "metadata": {},
   "source": [
    "Gaussian Error Linear Units\n",
    "<img src=\"https://qph.c7.quoracdn.net/main-qimg-afa9fa5305569f7c9f028271a00cfacf\" />\n",
    "BERT는 비선형성을 위한 활성화 함수로 GELU를 사용합니다. GELU는 확률론적 개념을 도입하여 엘루보다 계산 비용이 저렴하고 빠르게 수렴합니다. \n",
    "exp()이나 σ()는 계산 비용이 많이 듭니다. 피드 포워드 층의 활성화 함수로 사용됩니다."
   ]
  },
  {
   "cell_type": "markdown",
   "metadata": {},
   "source": [
    "Gaussian Error Linear Unit(GELU)\n",
    "\n",
    "\\begin{align}\n",
    "f(x) &= 0.5x(1 + tanh[ \\sqrt{2/\\pi}(x + 0.044715x^3)]) \\\\\n",
    "     &or \\\\\n",
    "     &= x \\sigma(1.702x)\n",
    "\\end{align}"
   ]
  },
  {
   "cell_type": "code",
   "execution_count": 17,
   "metadata": {
    "collapsed": true
   },
   "outputs": [],
   "source": [
    "def gelu(x):\n",
    "    \"\"\"\n",
    "    Implementation of gelu activation function.\n",
    "    gelu 함수 구현\n",
    "    \"\"\"\n",
    "    \n",
    "    # return 0.5 * x * (1.0 + torch.tanh(math.sqrt(2.0 / x) * (x + 0.044715 * math.pow(x, 3))))\n",
    "    # OpenAI GPT's gelu is slightly different.\n",
    "    # OpenAI GPT의 갤루는 조금 다릅니다.\n",
    "    return x * 0.5 * (1.0 + torch.erf(x / math.sqrt(2.0)))"
   ]
  },
  {
   "cell_type": "code",
   "execution_count": 6,
   "metadata": {},
   "outputs": [
    {
     "name": "stdout",
     "output_type": "stream",
     "text": [
      "Help on built-in function erf:\n",
      "\n",
      "erf(...)\n",
      "    erf(tensor, out=None) -> Tensor\n",
      "    \n",
      "    Computes the error function of each element. The error function is defined as follows:\n",
      "    \n",
      "    .. math::\n",
      "        \\mathrm{erf}(x) = \\frac{2}{\\sqrt{\\pi}} \\int_{0}^{x} e^{-t^2} dt\n",
      "    \n",
      "    Args:\n",
      "        tensor (Tensor): the input tensor\n",
      "        out (Tensor, optional): the output tensor\n",
      "    \n",
      "    Example::\n",
      "    \n",
      "        >>> torch.erf(torch.tensor([0, -1., 10.]))\n",
      "        tensor([ 0.0000, -0.8427,  1.0000])\n",
      "\n"
     ]
    }
   ],
   "source": [
    "help(torch.erf)"
   ]
  },
  {
   "cell_type": "markdown",
   "metadata": {},
   "source": [
    "\\begin{align}\n",
    "\\mathrm{erf}(x) = \\frac{2}{\\sqrt{\\pi}} \\int_{0}^{x} e^{-t^2} dt\n",
    "\\end{align}"
   ]
  },
  {
   "cell_type": "code",
   "execution_count": 18,
   "metadata": {},
   "outputs": [
    {
     "data": {
      "text/plain": [
       "tensor([[0.8413],\n",
       "        [1.9545]])"
      ]
     },
     "execution_count": 18,
     "metadata": {},
     "output_type": "execute_result"
    }
   ],
   "source": [
    "x = torch.tensor([[1.0], [2.0]])\n",
    "gelu(x)"
   ]
  },
  {
   "cell_type": "code",
   "execution_count": 21,
   "metadata": {
    "collapsed": true
   },
   "outputs": [],
   "source": [
    "x = torch.tensor(np.arange(-1, 1, 0.001))"
   ]
  },
  {
   "cell_type": "code",
   "execution_count": 25,
   "metadata": {
    "collapsed": true
   },
   "outputs": [],
   "source": [
    "y = gelu(x)"
   ]
  },
  {
   "cell_type": "code",
   "execution_count": 34,
   "metadata": {},
   "outputs": [
    {
     "data": {
      "text/plain": [
       "<matplotlib.legend.Legend at 0x1e1e8f2d400>"
      ]
     },
     "execution_count": 34,
     "metadata": {},
     "output_type": "execute_result"
    },
    {
     "data": {
      "image/png": "[encoded data removed]",
      "text/plain": [
       "<matplotlib.figure.Figure at 0x1e1e8f2d470>"
      ]
     },
     "metadata": {},
     "output_type": "display_data"
    }
   ],
   "source": [
    "plt.plot(x.numpy(), y.numpy(), 'b', label='GELU')\n",
    "plt.legend()"
   ]
  },
  {
   "cell_type": "markdown",
   "metadata": {
    "collapsed": true
   },
   "source": [
    "## Embedding"
   ]
  },
  {
   "attachments": {
    "positinal_encoding.png": {
     "image/png": "[encoded data removed]"
    }
   },
   "cell_type": "markdown",
   "metadata": {},
   "source": [
    "![positinal_encoding.png](attachment:positinal_encoding.png)"
   ]
  },
  {
   "cell_type": "markdown",
   "metadata": {},
   "source": [
    "BERT는 Positional Encoding 대신, Positional Embedding을 사용한다.\n",
    "\n",
    "*   토큰 임베딩: 입력 단어가 단어장(Vocab)에 몇 번째 단어인지 나타냄\n",
    "*   세그먼트 임베딩: 두 문장 중 앞 문장인지 뒷 문장인지 구분함\n",
    "*   포지션 임베딩: 문장 내 단어의 순번을 나타냄\n",
    "\n",
    "세 임베딩을 더한후 LayerNorm 과 Dropout 을 적용한다. 그 결과값은 인코더의 입력값이 된다. "
   ]
  },
  {
   "cell_type": "code",
   "execution_count": 11,
   "metadata": {
    "collapsed": true
   },
   "outputs": [],
   "source": [
    "class BERTEmbeddings(nn.Module):\n",
    "    # TODO: config 클래스를 받는다. \n",
    "    # config에는 하이퍼파라미터에 대한 정보가 담겨있다.\n",
    "    def __init__(self, config): \n",
    "        super(BERTEmbeddings, self).__init__()\n",
    "        \"\"\"\n",
    "        Construct the embedding module from word, position and token_type embeddings.\n",
    "        \n",
    "        3가지 임베딩이 필요하다\n",
    "        \"\"\"\n",
    "        self.word_embeddings = nn.Embedding(config.vocab_size, config.hidden_size)\n",
    "        # hidden_size=768 -> 특징을 담는 피처 사이즈\n",
    "        self.position_embeddings = nn.Embedding(config.max_position_embeddings, config.hidden_size)\n",
    "        # max_position_size=512 -> 최대 시퀀스 길이\n",
    "        self.token_type_embeddings = nn.Embedding(config.type_vocab_size, config.hidden_size)\n",
    "        # type_vocab_size=16\n",
    "        \n",
    "        \"\"\"\n",
    "        세 개의 임베딩 결과 값을 합하여 LayerNorm 과 Dropout 을 거쳐야 한다.\n",
    "        \"\"\"\n",
    "        # TODO: layer normalize 를 해야한다.\n",
    "        # TODO: dropout 층 생성 해야 한다.\n",
    "        \n",
    "        # self.LayerNorm = BERTLayerNorm(config)\n",
    "        self.dropout = nn.Dropout(config.hidden_dropout_prob)\n",
    "    \n",
    "    def forward(self, input_ids, token_type_ids=None):\n",
    "        # 1 input ids & postion ids & token_type ids 생성\n",
    "        \n",
    "        # 2 각 임베딩을 통해 임베딩 벡터 생성\n",
    "        \n",
    "        # 3 임베딩 결과들을 더한 후 LayerNorm & Dropout을 하여 인코더 입력값 생성\n",
    "        \n",
    "        # 4 return embeddings\n",
    "        pass"
   ]
  },
  {
   "cell_type": "code",
   "execution_count": null,
   "metadata": {
    "collapsed": true
   },
   "outputs": [],
   "source": []
  }
 ],
 "metadata": {
  "kernelspec": {
   "display_name": "Python 3",
   "language": "python",
   "name": "python3"
  },
  "language_info": {
   "codemirror_mode": {
    "name": "ipython",
    "version": 3
   },
   "file_extension": ".py",
   "mimetype": "text/x-python",
   "name": "python",
   "nbconvert_exporter": "python",
   "pygments_lexer": "ipython3",
   "version": "3.6.8"
  },
  "toc": {
   "base_numbering": 1,
   "nav_menu": {},
   "number_sections": true,
   "sideBar": true,
   "skip_h1_title": false,
   "title_cell": "Table of Contents",
   "title_sidebar": "Contents",
   "toc_cell": false,
   "toc_position": {},
   "toc_section_display": true,
   "toc_window_display": false
  },
  "varInspector": {
   "cols": {
    "lenName": 16,
    "lenType": 16,
    "lenVar": 40
   },
   "kernels_config": {
    "python": {
     "delete_cmd_postfix": "",
     "delete_cmd_prefix": "del ",
     "library": "var_list.py",
     "varRefreshCmd": "print(var_dic_list())"
    },
    "r": {
     "delete_cmd_postfix": ") ",
     "delete_cmd_prefix": "rm(",
     "library": "var_list.r",
     "varRefreshCmd": "cat(var_dic_list()) "
    }
   },
   "types_to_exclude": [
    "module",
    "function",
    "builtin_function_or_method",
    "instance",
    "_Feature"
   ],
   "window_display": false
  }
 },
 "nbformat": 4,
 "nbformat_minor": 2
}
